{
  "cells": [
    {
      "cell_type": "markdown",
      "metadata": {},
      "source": [
        "# 动量策略实战：时序对齐、成本与参数敏感性\n",
        "\n",
        "## 目的\n",
        "构建并评估经典动量策略（SMA交叉和时间序列动量），掌握严格时序对齐、交易成本处理，并进行参数敏感性分析。\n",
        "\n",
        "## 金融含义  \n",
        "动量策略基于\"趋势延续\"假设，是量化交易的核心策略族。通过对比不同动量信号的表现，理解策略设计、成本控制和参数优化的重要性。\n"
      ]
    },
    {
      "cell_type": "markdown",
      "metadata": {},
      "source": [
        "## 1. 导入库与数据获取\n",
        "\n",
        "### 目的\n",
        "导入必要的库和自定义工具函数，下载AAPL股票数据作为测试标的。\n",
        "\n",
        "### 金融含义\n",
        "选择流动性好的大盘股（AAPL）作为策略测试标的，确保数据质量和交易的可执行性。\n"
      ]
    },
    {
      "cell_type": "code",
      "execution_count": 1,
      "metadata": {},
      "outputs": [
        {
          "name": "stdout",
          "output_type": "stream",
          "text": [
            "库导入完成\n"
          ]
        }
      ],
      "source": [
        "# 导入必要库\n",
        "import pandas as pd\n",
        "import numpy as np\n",
        "import matplotlib.pyplot as plt\n",
        "import yfinance as yf\n",
        "from datetime import datetime\n",
        "\n",
        "# 导入自定义工具函数\n",
        "from src.miniqlib import ensure_dir, shift_exec, turnover, apply_cost, equity, perf, max_drawdown\n",
        "\n",
        "# 设置matplotlib中文显示\n",
        "plt.rcParams['font.sans-serif'] = ['SimHei', 'Arial Unicode MS', 'DejaVu Sans']\n",
        "plt.rcParams['axes.unicode_minus'] = False\n",
        "\n",
        "print(\"库导入完成\")\n"
      ]
    },
    {
      "cell_type": "code",
      "execution_count": null,
      "metadata": {},
      "outputs": [],
      "source": [
        "# 下载AAPL数据\n",
        "try:\n",
        "    data = yf.download('AAPL', start='2015-01-01', end=datetime.now().strftime('%Y-%m-%d'), auto_adjust=True)\n",
        "    px = data['Close'].dropna()\n",
        "    ret = px.pct_change().fillna(0)\n",
        "    \n",
        "    # 基准：买入持有\n",
        "    equity_bh = equity(ret)\n",
        "    \n",
        "    print(f\"数据下载成功，共{len(px)}个交易日\")\n",
        "    print(f\"数据区间：{px.index[0].strftime('%Y-%m-%d')} 至 {px.index[-1].strftime('%Y-%m-%d')}\")\n",
        "    print(f\"AAPL价格：{px.iloc[0]:.2f} -> {px.iloc[-1]:.2f}\")\n",
        "    \n",
        "except Exception as e:\n",
        "    print(f\"数据下载失败：{e}\")\n",
        "    print(\"请检查网络连接后重试\")\n"
      ]
    },
    {
      "cell_type": "markdown",
      "metadata": {},
      "source": [
        "## 2. 策略一：SMA动量策略\n",
        "\n",
        "### 目的\n",
        "实现简单移动平均线交叉策略，当快线上穿慢线时做多，下穿时平仓。\n",
        "\n",
        "### 金融含义\n",
        "SMA交叉是最经典的技术分析信号，基于短期趋势突破长期趋势的逻辑。快慢均线的选择直接影响策略的敏感性和换手率。\n"
      ]
    },
    {
      "cell_type": "code",
      "execution_count": null,
      "metadata": {},
      "outputs": [],
      "source": [
        "# 策略参数设置\n",
        "fast = 10\n",
        "slow = 50\n",
        "commission_bps = 5\n",
        "slippage_bps = 2\n",
        "half_spread_bps = 5\n",
        "\n",
        "# SMA动量信号\n",
        "sma_fast = px.rolling(fast).mean()\n",
        "sma_slow = px.rolling(slow).mean()\n",
        "signal_sma = (sma_fast > sma_slow).astype(int)\n",
        "\n",
        "# 严格时序对齐：信号用于下一期交易\n",
        "pos_sma = shift_exec(signal_sma)\n",
        "\n",
        "# 计算交易成本\n",
        "turnover_sma = turnover(pos_sma)\n",
        "cost_sma = apply_cost(turnover_sma, commission_bps, slippage_bps, half_spread_bps)\n",
        "\n",
        "# 含成本的策略收益\n",
        "ret_sma = pos_sma * ret - cost_sma\n",
        "equity_sma = equity(ret_sma)\n",
        "\n",
        "print(f\"SMA策略构建完成\")\n",
        "print(f\"参数：快线{fast}日，慢线{slow}日\")\n",
        "print(f\"交易成本：佣金{commission_bps}bps，滑点{slippage_bps}bps，价差{half_spread_bps}bps\")\n",
        "print(f\"年化换手率：{turnover_sma.sum() * 252 / len(turnover_sma):.2f}次\")\n"
      ]
    },
    {
      "cell_type": "markdown",
      "metadata": {},
      "source": [
        "## 3. 策略二：时间序列动量（TSMOM）\n",
        "\n",
        "### 目的\n",
        "实现时间序列动量策略，基于价格相对于历史价格的表现决定仓位方向。\n",
        "\n",
        "### 金融含义\n",
        "TSMOM通过比较当前价格与过去价格，捕捉中长期趋势。相比SMA交叉，TSMOM更直接地利用价格动量，但对回望期敏感。\n"
      ]
    },
    {
      "cell_type": "code",
      "execution_count": null,
      "metadata": {},
      "outputs": [],
      "source": [
        "# TSMOM策略参数\n",
        "lookback = 63  # 约3个月\n",
        "\n",
        "# TSMOM信号：当前价格 vs 回望期价格\n",
        "signal_tsmom = (px / px.shift(lookback) - 1 > 0).astype(int)\n",
        "\n",
        "# 严格时序对齐\n",
        "pos_tsmom = shift_exec(signal_tsmom)\n",
        "\n",
        "# 计算交易成本\n",
        "turnover_tsmom = turnover(pos_tsmom)\n",
        "cost_tsmom = apply_cost(turnover_tsmom, commission_bps, slippage_bps, half_spread_bps)\n",
        "\n",
        "# 含成本的策略收益\n",
        "ret_tsmom = pos_tsmom * ret - cost_tsmom\n",
        "equity_tsmom = equity(ret_tsmom)\n",
        "\n",
        "print(f\"TSMOM策略构建完成\")\n",
        "print(f\"回望期：{lookback}日\")\n",
        "print(f\"年化换手率：{turnover_tsmom.sum() * 252 / len(turnover_tsmom):.2f}次\")\n"
      ]
    },
    {
      "cell_type": "markdown",
      "metadata": {},
      "source": [
        "## 4. 绩效评估与对比\n",
        "\n",
        "### 目的\n",
        "计算并对比买入持有、SMA和TSMOM三种策略的关键绩效指标。\n",
        "\n",
        "### 金融含义\n",
        "年化收益率衡量策略盈利能力，波动率反映风险水平，Sharpe比率评估风险调整后收益，最大回撤显示策略在最坏情况下的损失。\n"
      ]
    },
    {
      "cell_type": "code",
      "execution_count": null,
      "metadata": {},
      "outputs": [],
      "source": [
        "# 计算各策略绩效指标\n",
        "perf_bh = perf(ret)\n",
        "perf_sma = perf(ret_sma)\n",
        "perf_tsmom = perf(ret_tsmom)\n",
        "\n",
        "# 整理为DataFrame便于对比\n",
        "results = pd.DataFrame({\n",
        "    'Buy&Hold': perf_bh,\n",
        "    'SMA': perf_sma,\n",
        "    'TSMOM': perf_tsmom\n",
        "}).round(4)\n",
        "\n",
        "print(\"策略绩效对比表\")\n",
        "print(\"=\" * 50)\n",
        "print(results)\n",
        "print(\"\\n指标解释：\")\n",
        "print(\"CAGR：年化复合增长率，衡量策略年化收益\")\n",
        "print(\"Vol：年化波动率，反映策略风险水平\") \n",
        "print(\"Sharpe：夏普比率，风险调整后收益指标\")\n",
        "print(\"MaxDD：最大回撤，策略历史最大亏损幅度\")\n"
      ]
    },
    {
      "cell_type": "markdown",
      "metadata": {},
      "source": [
        "## 5. 净值曲线对比\n",
        "\n",
        "### 目的\n",
        "可视化三种策略的净值曲线，直观展示各策略的表现差异。\n",
        "\n",
        "### 金融含义\n",
        "净值曲线是投资者最关心的指标，体现资金增长轨迹。平滑上升的曲线更受青睐，而剧烈波动或深度回撤会影响投资者信心。\n"
      ]
    },
    {
      "cell_type": "code",
      "execution_count": null,
      "metadata": {},
      "outputs": [],
      "source": [
        "# 净值曲线对比图\n",
        "plt.figure(figsize=(12, 6))\n",
        "plt.plot(equity_bh.index, equity_bh.values, label='Buy&Hold', linewidth=2, alpha=0.8)\n",
        "plt.plot(equity_sma.index, equity_sma.values, label='SMA动量', linewidth=2, alpha=0.8)\n",
        "plt.plot(equity_tsmom.index, equity_tsmom.values, label='TSMOM', linewidth=2, alpha=0.8)\n",
        "\n",
        "plt.title('动量策略净值曲线对比', fontsize=14, fontweight='bold')\n",
        "plt.xlabel('日期', fontsize=12)\n",
        "plt.ylabel('净值', fontsize=12)\n",
        "plt.legend(fontsize=11)\n",
        "plt.grid(True, alpha=0.3)\n",
        "plt.tight_layout()\n",
        "plt.show()\n",
        "\n",
        "print(f\"最终净值：\")\n",
        "print(f\"Buy&Hold: {equity_bh.iloc[-1]:.3f}\")\n",
        "print(f\"SMA动量: {equity_sma.iloc[-1]:.3f}\")\n",
        "print(f\"TSMOM: {equity_tsmom.iloc[-1]:.3f}\")\n"
      ]
    },
    {
      "cell_type": "markdown",
      "metadata": {},
      "source": [
        "## 6. 回撤分析\n",
        "\n",
        "### 目的\n",
        "分析SMA策略的回撤特征，理解策略风险控制的重要性。\n",
        "\n",
        "### 金融含义\n",
        "回撤反映策略在不利市场环境下的损失幅度，是风险管理的核心指标。深度回撤会严重影响投资者心理，导致策略执行困难。\n"
      ]
    },
    {
      "cell_type": "code",
      "execution_count": null,
      "metadata": {},
      "outputs": [],
      "source": [
        "# 计算SMA策略回撤序列\n",
        "running_max = equity_sma.cummax()\n",
        "drawdown = (equity_sma / running_max - 1) * 100\n",
        "\n",
        "# 绘制回撤图\n",
        "plt.figure(figsize=(12, 6))\n",
        "plt.fill_between(drawdown.index, drawdown.values, 0, alpha=0.3, color='red', label='回撤区域')\n",
        "plt.plot(drawdown.index, drawdown.values, color='red', linewidth=1)\n",
        "\n",
        "plt.title('SMA动量策略回撤分析', fontsize=14, fontweight='bold')\n",
        "plt.xlabel('日期', fontsize=12)\n",
        "plt.ylabel('回撤 (%)', fontsize=12)\n",
        "plt.legend(fontsize=11)\n",
        "plt.grid(True, alpha=0.3)\n",
        "plt.tight_layout()\n",
        "plt.show()\n",
        "\n",
        "print(f\"SMA策略回撤统计：\")\n",
        "print(f\"最大回撤：{drawdown.min():.2f}%\")\n",
        "print(f\"平均回撤：{drawdown[drawdown < 0].mean():.2f}%\")\n",
        "print(f\"回撤天数占比：{(drawdown < -1).sum() / len(drawdown) * 100:.1f}%\")\n"
      ]
    },
    {
      "cell_type": "markdown",
      "metadata": {},
      "source": [
        "## 7. 参数敏感性分析\n",
        "\n",
        "### 目的\n",
        "测试SMA策略在不同参数组合下的表现，寻找最优参数并评估策略稳健性。\n",
        "\n",
        "### 金融含义\n",
        "参数敏感性分析帮助识别过拟合风险，稳健的策略应在合理参数范围内都有不错表现，而非仅在特定参数下有效。\n"
      ]
    },
    {
      "cell_type": "code",
      "execution_count": null,
      "metadata": {},
      "outputs": [],
      "source": [
        "# 参数网格搜索\n",
        "fast_values = [5, 10, 20]\n",
        "slow_values = [30, 50, 100]\n",
        "\n",
        "# 存储结果的矩阵\n",
        "sharpe_matrix = np.zeros((len(fast_values), len(slow_values)))\n",
        "\n",
        "print(\"参数敏感性分析进行中...\")\n",
        "for i, fast_param in enumerate(fast_values):\n",
        "    for j, slow_param in enumerate(slow_values):\n",
        "        if fast_param < slow_param:  # 确保快线 < 慢线\n",
        "            # 计算信号\n",
        "            sma_f = px.rolling(fast_param).mean()\n",
        "            sma_s = px.rolling(slow_param).mean()\n",
        "            sig = (sma_f > sma_s).astype(int)\n",
        "            \n",
        "            # 严格对齐与成本\n",
        "            pos = shift_exec(sig)\n",
        "            cost = apply_cost(turnover(pos), commission_bps, slippage_bps, half_spread_bps)\n",
        "            ret_strategy = pos * ret - cost\n",
        "            \n",
        "            # 计算Sharpe\n",
        "            sharpe_matrix[i, j] = perf(ret_strategy)['Sharpe']\n",
        "        else:\n",
        "            sharpe_matrix[i, j] = np.nan\n",
        "\n",
        "# 转换为DataFrame便于查看\n",
        "sharpe_df = pd.DataFrame(sharpe_matrix, \n",
        "                        index=[f'Fast{f}' for f in fast_values],\n",
        "                        columns=[f'Slow{s}' for s in slow_values])\n",
        "\n",
        "print(\"\\nSMA策略参数敏感性分析（Sharpe比率）\")\n",
        "print(\"=\" * 45)\n",
        "print(sharpe_df.round(3))\n",
        "\n",
        "# 找出最优参数\n",
        "best_idx = np.nanargmax(sharpe_matrix)\n",
        "best_i, best_j = np.unravel_index(best_idx, sharpe_matrix.shape)\n",
        "print(f\"\\n最优参数组合：Fast={fast_values[best_i]}, Slow={slow_values[best_j]}\")\n",
        "print(f\"最优Sharpe：{sharpe_matrix[best_i, best_j]:.3f}\")\n"
      ]
    },
    {
      "cell_type": "markdown",
      "metadata": {},
      "source": [
        "## 8. 目标波动率策略（可选）\n",
        "\n",
        "### 目的\n",
        "演示目标波动率调整，通过动态杠杆控制策略风险暴露。\n",
        "\n",
        "### 金融含义\n",
        "目标波动率策略通过调整仓位大小来稳定策略波动性，在低波动时加杠杆，高波动时减仓，实现更稳定的风险暴露。\n"
      ]
    },
    {
      "cell_type": "code",
      "execution_count": null,
      "metadata": {},
      "outputs": [],
      "source": [
        "# 目标波动率参数\n",
        "target_vol = 0.15  # 目标年化波动率15%\n",
        "vol_window = 20    # 波动率估算窗口\n",
        "max_leverage = 3   # 最大杠杆倍数\n",
        "\n",
        "# 计算滚动波动率（年化）\n",
        "rolling_vol = ret.rolling(vol_window).std() * np.sqrt(252)\n",
        "\n",
        "# 计算动态杠杆倍数\n",
        "leverage = (target_vol / rolling_vol).fillna(1)\n",
        "leverage = np.clip(leverage, 0, max_leverage)  # 限制杠杆范围\n",
        "\n",
        "# 应用目标波动率到SMA策略\n",
        "pos_sma_vol = pos_sma * leverage\n",
        "ret_sma_vol = pos_sma_vol * ret - apply_cost(turnover(pos_sma_vol), commission_bps, slippage_bps, half_spread_bps)\n",
        "equity_sma_vol = equity(ret_sma_vol)\n",
        "\n",
        "# 对比图\n",
        "plt.figure(figsize=(12, 6))\n",
        "plt.plot(equity_sma.index, equity_sma.values, label='SMA原始', linewidth=2, alpha=0.8)\n",
        "plt.plot(equity_sma_vol.index, equity_sma_vol.values, label='SMA目标波动率', linewidth=2, alpha=0.8)\n",
        "\n",
        "plt.title('目标波动率策略对比', fontsize=14, fontweight='bold')\n",
        "plt.xlabel('日期', fontsize=12)\n",
        "plt.ylabel('净值', fontsize=12)\n",
        "plt.legend(fontsize=11)\n",
        "plt.grid(True, alpha=0.3)\n",
        "plt.tight_layout()\n",
        "plt.show()\n",
        "\n",
        "# 绩效对比\n",
        "perf_sma_vol = perf(ret_sma_vol)\n",
        "vol_comparison = pd.DataFrame({\n",
        "    'SMA原始': perf_sma,\n",
        "    'SMA目标波动率': perf_sma_vol\n",
        "}).round(4)\n",
        "\n",
        "print(\"目标波动率策略对比\")\n",
        "print(\"=\" * 30)\n",
        "print(vol_comparison)\n",
        "print(f\"\\n平均杠杆倍数：{leverage.mean():.2f}\")\n",
        "print(f\"最大杠杆倍数：{leverage.max():.2f}\")\n"
      ]
    },
    {
      "cell_type": "markdown",
      "metadata": {},
      "source": [
        "## 9. 数据导出\n",
        "\n",
        "### 目的\n",
        "将策略信号、收益和净值数据保存到parquet文件，便于后续分析和复现。\n",
        "\n",
        "### 金融含义\n",
        "规范的数据管理是量化研究的基础，保存中间结果有助于策略迭代、回测验证和风险监控。\n"
      ]
    },
    {
      "cell_type": "code",
      "execution_count": null,
      "metadata": {},
      "outputs": [],
      "source": [
        "# 确保数据目录存在\n",
        "ensure_dir(\"data\")\n",
        "\n",
        "# 整理要导出的数据\n",
        "export_data = pd.DataFrame({\n",
        "    'price': px,\n",
        "    'return': ret,\n",
        "    'signal_sma': signal_sma,\n",
        "    'signal_tsmom': signal_tsmom,\n",
        "    'pos_sma': pos_sma,\n",
        "    'pos_tsmom': pos_tsmom,\n",
        "    'ret_sma': ret_sma,\n",
        "    'ret_tsmom': ret_tsmom,\n",
        "    'equity_bh': equity_bh,\n",
        "    'equity_sma': equity_sma,\n",
        "    'equity_tsmom': equity_tsmom,\n",
        "    'turnover_sma': turnover_sma,\n",
        "    'turnover_tsmom': turnover_tsmom,\n",
        "    'cost_sma': cost_sma,\n",
        "    'cost_tsmom': cost_tsmom\n",
        "})\n",
        "\n",
        "# 导出到parquet文件\n",
        "export_data.to_parquet(\"data/day4_momentum.parquet\")\n",
        "\n",
        "print(\"数据导出完成!\")\n",
        "print(f\"文件保存路径: data/day4_momentum.parquet\")\n",
        "print(f\"数据维度: {export_data.shape}\")\n",
        "print(f\"包含字段: {list(export_data.columns)}\")\n"
      ]
    },
    {
      "cell_type": "markdown",
      "metadata": {},
      "source": [
        "## 总结与要点\n",
        "\n",
        "### 策略设计要点\n",
        "1. **时序对齐**：交易信号必须在下一期执行，避免前视偏差\n",
        "2. **成本控制**：佣金、滑点、价差等交易成本对策略表现影响显著\n",
        "3. **参数稳健性**：优秀策略应在合理参数范围内都有不错表现\n",
        "\n",
        "### 动量策略特点\n",
        "- **SMA交叉**：基于技术分析，参数敏感性较高，换手适中\n",
        "- **TSMOM**：直接利用价格动量，实现简单，但对回望期敏感\n",
        "- **目标波动率**：通过动态杠杆控制风险暴露，提升风险调整收益\n",
        "\n",
        "### 风险管理\n",
        "- 最大回撤是衡量策略风险的重要指标\n",
        "- 高换手率会显著增加交易成本，侵蚀策略收益\n",
        "- 参数过度优化可能导致过拟合，实际交易效果不佳\n",
        "\n",
        "动量策略是量化交易的重要组成部分，但需要结合严格的风险管理和成本控制才能在实际交易中取得成功。\n"
      ]
    }
  ],
  "metadata": {
    "kernelspec": {
      "display_name": "quant_clean",
      "language": "python",
      "name": "python3"
    },
    "language_info": {
      "codemirror_mode": {
        "name": "ipython",
        "version": 3
      },
      "file_extension": ".py",
      "mimetype": "text/x-python",
      "name": "python",
      "nbconvert_exporter": "python",
      "pygments_lexer": "ipython3",
      "version": "3.8.20"
    }
  },
  "nbformat": 4,
  "nbformat_minor": 2
}
